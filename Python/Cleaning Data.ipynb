{
 "cells": [
  {
   "cell_type": "code",
   "execution_count": 2,
   "metadata": {},
   "outputs": [],
   "source": [
    "import pandas as pd \n",
    "\n",
    "Customers = pd.read_csv(\"D:/Microsoft Data Engineer/Graduation Project/Database/uncleaned_customers.csv\")\n",
    "\n",
    "invoices = pd.read_csv(\"D:/Microsoft Data Engineer/Graduation Project/Database/uncleaned_invoices.csv\")\n",
    "\n",
    "invoice_items = pd.read_csv(\"D:/Microsoft Data Engineer/Graduation Project/Database/uncleaned_invoice_items.csv\")\n",
    "\n",
    "products = pd.read_csv(\"D:/Microsoft Data Engineer/Graduation Project/Database/uncleaned_products.csv\")"
   ]
  },
  {
   "cell_type": "code",
   "execution_count": 3,
   "metadata": {},
   "outputs": [
    {
     "data": {
      "text/html": [
       "<div>\n",
       "<style scoped>\n",
       "    .dataframe tbody tr th:only-of-type {\n",
       "        vertical-align: middle;\n",
       "    }\n",
       "\n",
       "    .dataframe tbody tr th {\n",
       "        vertical-align: top;\n",
       "    }\n",
       "\n",
       "    .dataframe thead th {\n",
       "        text-align: right;\n",
       "    }\n",
       "</style>\n",
       "<table border=\"1\" class=\"dataframe\">\n",
       "  <thead>\n",
       "    <tr style=\"text-align: right;\">\n",
       "      <th></th>\n",
       "      <th>CustomerID</th>\n",
       "      <th>Country</th>\n",
       "    </tr>\n",
       "  </thead>\n",
       "  <tbody>\n",
       "    <tr>\n",
       "      <th>0</th>\n",
       "      <td>17850.0</td>\n",
       "      <td>United Kingdom</td>\n",
       "    </tr>\n",
       "    <tr>\n",
       "      <th>1</th>\n",
       "      <td>13047.0</td>\n",
       "      <td>United Kingdom</td>\n",
       "    </tr>\n",
       "    <tr>\n",
       "      <th>2</th>\n",
       "      <td>12583.0</td>\n",
       "      <td>France</td>\n",
       "    </tr>\n",
       "    <tr>\n",
       "      <th>3</th>\n",
       "      <td>13748.0</td>\n",
       "      <td>United Kingdom</td>\n",
       "    </tr>\n",
       "    <tr>\n",
       "      <th>4</th>\n",
       "      <td>15100.0</td>\n",
       "      <td>United Kingdom</td>\n",
       "    </tr>\n",
       "  </tbody>\n",
       "</table>\n",
       "</div>"
      ],
      "text/plain": [
       "   CustomerID         Country\n",
       "0     17850.0  United Kingdom\n",
       "1     13047.0  United Kingdom\n",
       "2     12583.0          France\n",
       "3     13748.0  United Kingdom\n",
       "4     15100.0  United Kingdom"
      ]
     },
     "execution_count": 3,
     "metadata": {},
     "output_type": "execute_result"
    }
   ],
   "source": [
    "Customers.head()"
   ]
  },
  {
   "cell_type": "code",
   "execution_count": 4,
   "metadata": {},
   "outputs": [
    {
     "data": {
      "text/html": [
       "<div>\n",
       "<style scoped>\n",
       "    .dataframe tbody tr th:only-of-type {\n",
       "        vertical-align: middle;\n",
       "    }\n",
       "\n",
       "    .dataframe tbody tr th {\n",
       "        vertical-align: top;\n",
       "    }\n",
       "\n",
       "    .dataframe thead th {\n",
       "        text-align: right;\n",
       "    }\n",
       "</style>\n",
       "<table border=\"1\" class=\"dataframe\">\n",
       "  <thead>\n",
       "    <tr style=\"text-align: right;\">\n",
       "      <th></th>\n",
       "      <th>InvoiceNo</th>\n",
       "      <th>CustomerID</th>\n",
       "      <th>InvoiceDate</th>\n",
       "    </tr>\n",
       "  </thead>\n",
       "  <tbody>\n",
       "    <tr>\n",
       "      <th>0</th>\n",
       "      <td>536365</td>\n",
       "      <td>17850.0</td>\n",
       "      <td>12/1/2010 8:26</td>\n",
       "    </tr>\n",
       "    <tr>\n",
       "      <th>1</th>\n",
       "      <td>536366</td>\n",
       "      <td>17850.0</td>\n",
       "      <td>12/1/2010 8:28</td>\n",
       "    </tr>\n",
       "    <tr>\n",
       "      <th>2</th>\n",
       "      <td>536367</td>\n",
       "      <td>13047.0</td>\n",
       "      <td>12/1/2010 8:34</td>\n",
       "    </tr>\n",
       "    <tr>\n",
       "      <th>3</th>\n",
       "      <td>536368</td>\n",
       "      <td>13047.0</td>\n",
       "      <td>12/1/2010 8:34</td>\n",
       "    </tr>\n",
       "    <tr>\n",
       "      <th>4</th>\n",
       "      <td>536369</td>\n",
       "      <td>13047.0</td>\n",
       "      <td>12/1/2010 8:35</td>\n",
       "    </tr>\n",
       "  </tbody>\n",
       "</table>\n",
       "</div>"
      ],
      "text/plain": [
       "  InvoiceNo  CustomerID     InvoiceDate\n",
       "0    536365     17850.0  12/1/2010 8:26\n",
       "1    536366     17850.0  12/1/2010 8:28\n",
       "2    536367     13047.0  12/1/2010 8:34\n",
       "3    536368     13047.0  12/1/2010 8:34\n",
       "4    536369     13047.0  12/1/2010 8:35"
      ]
     },
     "execution_count": 4,
     "metadata": {},
     "output_type": "execute_result"
    }
   ],
   "source": [
    "invoices.head()"
   ]
  },
  {
   "cell_type": "code",
   "execution_count": 5,
   "metadata": {},
   "outputs": [
    {
     "data": {
      "text/html": [
       "<div>\n",
       "<style scoped>\n",
       "    .dataframe tbody tr th:only-of-type {\n",
       "        vertical-align: middle;\n",
       "    }\n",
       "\n",
       "    .dataframe tbody tr th {\n",
       "        vertical-align: top;\n",
       "    }\n",
       "\n",
       "    .dataframe thead th {\n",
       "        text-align: right;\n",
       "    }\n",
       "</style>\n",
       "<table border=\"1\" class=\"dataframe\">\n",
       "  <thead>\n",
       "    <tr style=\"text-align: right;\">\n",
       "      <th></th>\n",
       "      <th>InvoiceNo</th>\n",
       "      <th>StockCode</th>\n",
       "      <th>Quantity</th>\n",
       "      <th>Total</th>\n",
       "    </tr>\n",
       "  </thead>\n",
       "  <tbody>\n",
       "    <tr>\n",
       "      <th>0</th>\n",
       "      <td>536365</td>\n",
       "      <td>85123A</td>\n",
       "      <td>6</td>\n",
       "      <td>15.30</td>\n",
       "    </tr>\n",
       "    <tr>\n",
       "      <th>1</th>\n",
       "      <td>536365</td>\n",
       "      <td>71053</td>\n",
       "      <td>6</td>\n",
       "      <td>20.34</td>\n",
       "    </tr>\n",
       "    <tr>\n",
       "      <th>2</th>\n",
       "      <td>536365</td>\n",
       "      <td>84406B</td>\n",
       "      <td>8</td>\n",
       "      <td>22.00</td>\n",
       "    </tr>\n",
       "    <tr>\n",
       "      <th>3</th>\n",
       "      <td>536365</td>\n",
       "      <td>84029G</td>\n",
       "      <td>6</td>\n",
       "      <td>20.34</td>\n",
       "    </tr>\n",
       "    <tr>\n",
       "      <th>4</th>\n",
       "      <td>536365</td>\n",
       "      <td>84029E</td>\n",
       "      <td>6</td>\n",
       "      <td>20.34</td>\n",
       "    </tr>\n",
       "  </tbody>\n",
       "</table>\n",
       "</div>"
      ],
      "text/plain": [
       "  InvoiceNo StockCode  Quantity  Total\n",
       "0    536365    85123A         6  15.30\n",
       "1    536365     71053         6  20.34\n",
       "2    536365    84406B         8  22.00\n",
       "3    536365    84029G         6  20.34\n",
       "4    536365    84029E         6  20.34"
      ]
     },
     "execution_count": 5,
     "metadata": {},
     "output_type": "execute_result"
    }
   ],
   "source": [
    "invoice_items.head()"
   ]
  },
  {
   "cell_type": "code",
   "execution_count": 6,
   "metadata": {},
   "outputs": [
    {
     "data": {
      "text/html": [
       "<div>\n",
       "<style scoped>\n",
       "    .dataframe tbody tr th:only-of-type {\n",
       "        vertical-align: middle;\n",
       "    }\n",
       "\n",
       "    .dataframe tbody tr th {\n",
       "        vertical-align: top;\n",
       "    }\n",
       "\n",
       "    .dataframe thead th {\n",
       "        text-align: right;\n",
       "    }\n",
       "</style>\n",
       "<table border=\"1\" class=\"dataframe\">\n",
       "  <thead>\n",
       "    <tr style=\"text-align: right;\">\n",
       "      <th></th>\n",
       "      <th>StockCode</th>\n",
       "      <th>Description</th>\n",
       "      <th>UnitPrice</th>\n",
       "    </tr>\n",
       "  </thead>\n",
       "  <tbody>\n",
       "    <tr>\n",
       "      <th>0</th>\n",
       "      <td>85123A</td>\n",
       "      <td>WHITE HANGING HEART T-LIGHT HOLDER</td>\n",
       "      <td>2.55</td>\n",
       "    </tr>\n",
       "    <tr>\n",
       "      <th>1</th>\n",
       "      <td>71053</td>\n",
       "      <td>WHITE METAL LANTERN</td>\n",
       "      <td>3.39</td>\n",
       "    </tr>\n",
       "    <tr>\n",
       "      <th>2</th>\n",
       "      <td>84406B</td>\n",
       "      <td>CREAM CUPID HEARTS COAT HANGER</td>\n",
       "      <td>2.75</td>\n",
       "    </tr>\n",
       "    <tr>\n",
       "      <th>3</th>\n",
       "      <td>84029G</td>\n",
       "      <td>KNITTED UNION FLAG HOT WATER BOTTLE</td>\n",
       "      <td>3.39</td>\n",
       "    </tr>\n",
       "    <tr>\n",
       "      <th>4</th>\n",
       "      <td>84029E</td>\n",
       "      <td>RED WOOLLY HOTTIE WHITE HEART.</td>\n",
       "      <td>3.39</td>\n",
       "    </tr>\n",
       "  </tbody>\n",
       "</table>\n",
       "</div>"
      ],
      "text/plain": [
       "  StockCode                          Description  UnitPrice\n",
       "0    85123A   WHITE HANGING HEART T-LIGHT HOLDER       2.55\n",
       "1     71053                  WHITE METAL LANTERN       3.39\n",
       "2    84406B       CREAM CUPID HEARTS COAT HANGER       2.75\n",
       "3    84029G  KNITTED UNION FLAG HOT WATER BOTTLE       3.39\n",
       "4    84029E       RED WOOLLY HOTTIE WHITE HEART.       3.39"
      ]
     },
     "execution_count": 6,
     "metadata": {},
     "output_type": "execute_result"
    }
   ],
   "source": [
    "products.head()"
   ]
  },
  {
   "cell_type": "code",
   "execution_count": 8,
   "metadata": {},
   "outputs": [
    {
     "name": "stdout",
     "output_type": "stream",
     "text": [
      "CustomerID    1\n",
      "Country       0\n",
      "dtype: int64\n",
      "CustomerID    0\n",
      "Country       0\n",
      "dtype: int64\n"
     ]
    }
   ],
   "source": [
    "print(Customers.isnull().sum())\n",
    "\n",
    "Customers_clean = Customers.dropna()\n",
    "\n",
    "print(Customers_clean.isnull().sum())"
   ]
  },
  {
   "cell_type": "code",
   "execution_count": 9,
   "metadata": {},
   "outputs": [
    {
     "name": "stdout",
     "output_type": "stream",
     "text": [
      "InvoiceNo         0\n",
      "CustomerID     3710\n",
      "InvoiceDate       0\n",
      "dtype: int64\n",
      "InvoiceNo      0\n",
      "CustomerID     0\n",
      "InvoiceDate    0\n",
      "dtype: int64\n"
     ]
    }
   ],
   "source": [
    "print(invoices.isnull().sum())\n",
    "\n",
    "invoices_clean = invoices.dropna()\n",
    "\n",
    "print(invoices_clean.isnull().sum())"
   ]
  },
  {
   "cell_type": "code",
   "execution_count": 10,
   "metadata": {},
   "outputs": [
    {
     "name": "stdout",
     "output_type": "stream",
     "text": [
      "InvoiceNo    0\n",
      "StockCode    0\n",
      "Quantity     0\n",
      "Total        0\n",
      "dtype: int64\n",
      "InvoiceNo    0\n",
      "StockCode    0\n",
      "Quantity     0\n",
      "Total        0\n",
      "dtype: int64\n"
     ]
    }
   ],
   "source": [
    "print(invoice_items.isnull().sum())\n",
    "\n",
    "invoice_items_clean = invoice_items.dropna()\n",
    "\n",
    "print(invoice_items_clean.isnull().sum())"
   ]
  },
  {
   "cell_type": "code",
   "execution_count": 11,
   "metadata": {},
   "outputs": [
    {
     "name": "stdout",
     "output_type": "stream",
     "text": [
      "StockCode        0\n",
      "Description    176\n",
      "UnitPrice        0\n",
      "dtype: int64\n",
      "StockCode      0\n",
      "Description    0\n",
      "UnitPrice      0\n",
      "dtype: int64\n"
     ]
    }
   ],
   "source": [
    "print(products.isnull().sum())\n",
    "\n",
    "products_clean = products.dropna()\n",
    "\n",
    "print(products_clean.isnull().sum())"
   ]
  },
  {
   "cell_type": "code",
   "execution_count": 12,
   "metadata": {},
   "outputs": [
    {
     "name": "stdout",
     "output_type": "stream",
     "text": [
      "0\n",
      "0\n",
      "5271\n",
      "0\n"
     ]
    }
   ],
   "source": [
    "#check for duplicates\n",
    "print(Customers_clean.duplicated().sum())\n",
    "\n",
    "print(invoices_clean.duplicated().sum())\n",
    "\n",
    "print(invoice_items_clean.duplicated().sum())\n",
    "\n",
    "print(products_clean.duplicated().sum())"
   ]
  },
  {
   "cell_type": "code",
   "execution_count": 13,
   "metadata": {},
   "outputs": [],
   "source": [
    "#remove duplicates\n",
    "invoice_items_clean = invoice_items_clean.drop_duplicates()"
   ]
  },
  {
   "cell_type": "code",
   "execution_count": 14,
   "metadata": {},
   "outputs": [
    {
     "name": "stdout",
     "output_type": "stream",
     "text": [
      "0\n"
     ]
    }
   ],
   "source": [
    "print(invoice_items_clean.duplicated().sum())"
   ]
  },
  {
   "cell_type": "code",
   "execution_count": 17,
   "metadata": {},
   "outputs": [
    {
     "name": "stdout",
     "output_type": "stream",
     "text": [
      "       InvoiceNo StockCode  Quantity   Total\n",
      "141      C536379         D        -1  -27.50\n",
      "154      C536383    35004C        -1   -4.65\n",
      "235      C536391     22556       -12  -19.80\n",
      "236      C536391     21984       -24   -6.96\n",
      "237      C536391     21983       -24   -6.96\n",
      "...          ...       ...       ...     ...\n",
      "540449   C581490     23144       -11   -9.13\n",
      "541541   C581499         M        -1 -224.69\n",
      "541715   C581568     21258        -5  -54.75\n",
      "541716   C581569     84978        -1   -1.25\n",
      "541717   C581569     20979        -5   -6.25\n",
      "\n",
      "[10587 rows x 4 columns]\n",
      "Empty DataFrame\n",
      "Columns: [InvoiceNo, StockCode, Quantity, Total]\n",
      "Index: []\n"
     ]
    }
   ],
   "source": [
    "#check for negative Quantity in invoice_items\n",
    "print(invoice_items_clean[invoice_items_clean['Quantity'] < 0])\n",
    "\n",
    "#remove negative Quantity in invoice_items\n",
    "invoice_items_clean = invoice_items_clean[invoice_items_clean['Quantity'] > 0]\n",
    "\n",
    "print(invoice_items_clean[invoice_items_clean['Quantity'] < 0])"
   ]
  },
  {
   "cell_type": "code",
   "execution_count": 20,
   "metadata": {},
   "outputs": [
    {
     "name": "stdout",
     "output_type": "stream",
     "text": [
      "['85123A' '71053' '84406B' ... '90214U' '47591b' '23843']\n",
      "['71053' '22752' '21730' ... '23609' '23617' '23843']\n"
     ]
    }
   ],
   "source": [
    "# Explore the unique stock codes to identify invalid ones\n",
    "print(products_clean['StockCode'].unique())\n",
    "\n",
    "# Remove invalid stock codes\n",
    "products_clean = products_clean[products_clean['StockCode'].str.isnumeric()]\n"
   ]
  },
  {
   "cell_type": "code",
   "execution_count": 23,
   "metadata": {},
   "outputs": [],
   "source": [
    "# Convert InvoiceDate to datetime format\n",
    "invoices_clean.loc[:, 'InvoiceDate'] = pd.to_datetime(invoices_clean['InvoiceDate'])\n",
    "\n",
    "# Ensure CustomerID is a string\n",
    "Customers_clean.loc[:, 'CustomerID'] = Customers_clean['CustomerID'].astype(str)\n"
   ]
  },
  {
   "cell_type": "code",
   "execution_count": null,
   "metadata": {},
   "outputs": [],
   "source": [
    "# Save the cleaned data\n",
    "Customers_clean.to_csv(\"D:/Microsoft Data Engineer/Graduation Project/Database/customers_clean.csv\", index=False)\n",
    "\n",
    "invoices_clean.to_csv(\"D:/Microsoft Data Engineer/Graduation Project/Database/invoices_clean.csv\", index=False)\n",
    "\n",
    "invoice_items_clean.to_csv(\"D:/Microsoft Data Engineer/Graduation Project/Database/invoice_items_clean.csv\", index=False)\n",
    "\n",
    "products_clean.to_csv(\"D:/Microsoft Data Engineer/Graduation Project/Database/products_clean.csv\", index=False)"
   ]
  }
 ],
 "metadata": {
  "kernelspec": {
   "display_name": "Python 3",
   "language": "python",
   "name": "python3"
  },
  "language_info": {
   "codemirror_mode": {
    "name": "ipython",
    "version": 3
   },
   "file_extension": ".py",
   "mimetype": "text/x-python",
   "name": "python",
   "nbconvert_exporter": "python",
   "pygments_lexer": "ipython3",
   "version": "3.12.7"
  }
 },
 "nbformat": 4,
 "nbformat_minor": 2
}
